{
  "cells": [
    {
      "cell_type": "markdown",
      "metadata": {
        "id": "view-in-github",
        "colab_type": "text"
      },
      "source": [
        "<a href=\"https://colab.research.google.com/github/KarenAOber/PracticalPythonProgrammingForBiologists/blob/main/P34B_Day1_BasicDataTypes.ipynb\" target=\"_parent\"><img src=\"https://colab.research.google.com/assets/colab-badge.svg\" alt=\"Open In Colab\"/></a>"
      ]
    },
    {
      "cell_type": "markdown",
      "metadata": {
        "id": "LVSxD0mmfX-a"
      },
      "source": [
        "# Practical Python Programming for Biologists\n",
        "Author: Dr. Daniel Pass | www.CompassBioinformatics.co.uk\n",
        "\n",
        "---\n",
        "# General Python Concepts\n",
        "\n",
        "We want to get on to some cool biology but first we need to learn a few basic things about how python works. Let's go!"
      ]
    },
    {
      "cell_type": "markdown",
      "metadata": {
        "id": "Qfj4IMNPLXMT"
      },
      "source": [
        "## Basic Data types in Python\n",
        "\n",
        "All variable (aka data) in python fall under a small number of formats (e.g. strings, numbers, lists, and dictionaries (plus others)). How they are defined changes how they will be used in your code so it's important to know which to use.\n",
        "\n",
        "We use the equals ```=``` symbol to assign data to a variable"
      ]
    },
    {
      "cell_type": "markdown",
      "metadata": {
        "id": "M7pSFneq8QdF"
      },
      "source": [
        "### Strings\n",
        "A string is the most straightforward data type and is a list of characters which will be interpreted as text.\n",
        "\n",
        "We assign it with an equals character, with the information within either single or double quotes ```\" \"```/```' '``` .\n",
        "\n",
        "We can use the ```type()``` function to tell us what type of data it is:"
      ]
    },
    {
      "cell_type": "code",
      "execution_count": 1,
      "metadata": {
        "colab": {
          "base_uri": "https://localhost:8080/"
        },
        "id": "evwECSaRLZ07",
        "outputId": "329c5fad-78fd-4447-c8c7-95d11eaaac56"
      },
      "outputs": [
        {
          "output_type": "execute_result",
          "data": {
            "text/plain": [
              "str"
            ]
          },
          "metadata": {},
          "execution_count": 1
        }
      ],
      "source": [
        "my_gene = \"TGCATGCATGCTAGCGTAC\"\n",
        "type(my_gene)"
      ]
    },
    {
      "cell_type": "code",
      "execution_count": 2,
      "metadata": {
        "colab": {
          "base_uri": "https://localhost:8080/"
        },
        "id": "ulQ6qJZB75dn",
        "outputId": "1587d319-d6ee-40e8-a44a-dc82bc5b5d93"
      },
      "outputs": [
        {
          "output_type": "execute_result",
          "data": {
            "text/plain": [
              "str"
            ]
          },
          "metadata": {},
          "execution_count": 2
        }
      ],
      "source": [
        "my_abundance_value = \"742.37 od\"\n",
        "type(my_abundance_value)"
      ]
    },
    {
      "cell_type": "markdown",
      "metadata": {
        "id": "mVySoaI49QWh"
      },
      "source": [
        "Note that even plain numbers are a string if they're put inside of quote characters"
      ]
    },
    {
      "cell_type": "code",
      "execution_count": 3,
      "metadata": {
        "colab": {
          "base_uri": "https://localhost:8080/"
        },
        "id": "SYBXjEkq9f5v",
        "outputId": "082a6e38-2e9d-458d-9a48-32c5166891aa"
      },
      "outputs": [
        {
          "output_type": "execute_result",
          "data": {
            "text/plain": [
              "str"
            ]
          },
          "metadata": {},
          "execution_count": 3
        }
      ],
      "source": [
        "my_other_value = \"9231414\"\n",
        "type(my_other_value)"
      ]
    },
    {
      "cell_type": "markdown",
      "metadata": {
        "id": "fB2xiwcVMT0G"
      },
      "source": [
        "---\n",
        "### Numbers\n",
        "\n",
        "To create a number variable you need to simply **NOT** put it in quotes and python will accept it as a number\n",
        "\n",
        "There are two types of number formats, either **integers** (whole\n",
        "numbers) or **floats** (Decimal or Floating Point numbers)."
      ]
    },
    {
      "cell_type": "code",
      "execution_count": 4,
      "metadata": {
        "colab": {
          "base_uri": "https://localhost:8080/"
        },
        "id": "_LI0Oy9TMge_",
        "outputId": "c73d78a8-f977-4642-fc20-2d42613025dc"
      },
      "outputs": [
        {
          "output_type": "execute_result",
          "data": {
            "text/plain": [
              "int"
            ]
          },
          "metadata": {},
          "execution_count": 4
        }
      ],
      "source": [
        "read_count = 400500\n",
        "type(read_count)"
      ]
    },
    {
      "cell_type": "code",
      "execution_count": 5,
      "metadata": {
        "colab": {
          "base_uri": "https://localhost:8080/"
        },
        "id": "rv4M1UdjMsIt",
        "outputId": "7b0b956c-8d26-43e9-9f76-4caf2a312b10"
      },
      "outputs": [
        {
          "output_type": "execute_result",
          "data": {
            "text/plain": [
              "float"
            ]
          },
          "metadata": {},
          "execution_count": 5
        }
      ],
      "source": [
        "frequencyObserved = 0.8231\n",
        "type(frequencyObserved)"
      ]
    },
    {
      "cell_type": "markdown",
      "metadata": {
        "id": "KAIatH6iNIzS"
      },
      "source": [
        "\n",
        " You have to be especially careful when assigning number values as calling a float (decimal number) as an integer can cause errors.\n",
        "\n",
        " ```int()``` doesn't round the value, it just discards everything after the decimal point!"
      ]
    },
    {
      "cell_type": "code",
      "execution_count": 6,
      "metadata": {
        "colab": {
          "base_uri": "https://localhost:8080/"
        },
        "id": "Brkv7rvONSba",
        "outputId": "be4ba087-5360-4c0e-ad88-32d0ee591bca"
      },
      "outputs": [
        {
          "output_type": "stream",
          "name": "stdout",
          "text": [
            "my frequency is: 0.8231\n",
            "my frequency as an integer is: 0\n"
          ]
        }
      ],
      "source": [
        "print(\"my frequency is:\", frequencyObserved)\n",
        "print(\"my frequency as an integer is:\", int(frequencyObserved))"
      ]
    },
    {
      "cell_type": "markdown",
      "metadata": {
        "id": "FoTl4IfD_Bf_"
      },
      "source": [
        "See this example, and how if the number being stored as an integer affects the calculation"
      ]
    },
    {
      "cell_type": "code",
      "execution_count": 7,
      "metadata": {
        "colab": {
          "base_uri": "https://localhost:8080/"
        },
        "id": "sFqal18DeiV5",
        "outputId": "e611f45a-6793-4d39-bf40-06928bc79bf8"
      },
      "outputs": [
        {
          "output_type": "stream",
          "name": "stdout",
          "text": [
            "Leaves in 1000 forests is:   425350.0\n",
            "Leaves in 1000 int forests:  425000\n"
          ]
        }
      ],
      "source": [
        "average_leaf_count = 425.35\n",
        "average_leaf_count_int = int(425.35)\n",
        "\n",
        "print(\"Leaves in 1000 forests is:  \", average_leaf_count * 1000)\n",
        "print(\"Leaves in 1000 int forests: \", average_leaf_count_int * 1000)"
      ]
    },
    {
      "cell_type": "markdown",
      "metadata": {
        "id": "yB4atKSROaJQ"
      },
      "source": [
        "It is really important to be aware of what format your data is in especially when combining data. If they are different types it could go very wrong!\n",
        "\n",
        "In the old days (python 2) doing a division would return an ```int``` by default! Just think of all the unexpected errors!\n",
        "\n",
        "Now in python 3 now it always outputs a float, but there can still be some unexpected rounding to be aware of at really small decimals because of complicated computer science \"*reasons*\":"
      ]
    },
    {
      "cell_type": "code",
      "execution_count": 8,
      "metadata": {
        "colab": {
          "base_uri": "https://localhost:8080/"
        },
        "id": "5b4hY8e0_xcZ",
        "outputId": "1ae22a27-49e7-47ee-82e1-a9d54aeae02a"
      },
      "outputs": [
        {
          "output_type": "execute_result",
          "data": {
            "text/plain": [
              "33.333333333333336"
            ]
          },
          "metadata": {},
          "execution_count": 8
        }
      ],
      "source": [
        "100/3"
      ]
    },
    {
      "cell_type": "markdown",
      "metadata": {
        "id": "T4ZuxKXdqaRJ"
      },
      "source": [
        "More information on how floating-point numbers become strange [can be found here](https://docs.python.org/3/tutorial/floatingpoint.html)"
      ]
    },
    {
      "cell_type": "markdown",
      "metadata": {
        "id": "90CvuiAhqaRJ"
      },
      "source": [
        "---\n",
        "### Booleans (True/False)\n",
        "Another important data type is True/False values called Booleans. This can be useful for storing information, or for deciding whether to perform a process.\n",
        "\n",
        "Note the capital letter for the variables."
      ]
    },
    {
      "cell_type": "code",
      "execution_count": 9,
      "metadata": {
        "colab": {
          "base_uri": "https://localhost:8080/"
        },
        "id": "wocCvsVhXMkd",
        "outputId": "9939dcd2-2372-4ec9-9837-586f74408ed8"
      },
      "outputs": [
        {
          "output_type": "execute_result",
          "data": {
            "text/plain": [
              "bool"
            ]
          },
          "metadata": {},
          "execution_count": 9
        }
      ],
      "source": [
        "# Was the site sampled?\n",
        "WT01 = True\n",
        "WT02 = True\n",
        "WT03 = False\n",
        "\n",
        "type(WT01)"
      ]
    },
    {
      "cell_type": "markdown",
      "metadata": {
        "id": "-6N21waEqaRJ"
      },
      "source": [
        "In a useful way, printing a boolean variable gives you the output as a string:"
      ]
    },
    {
      "cell_type": "code",
      "execution_count": 10,
      "metadata": {
        "colab": {
          "base_uri": "https://localhost:8080/"
        },
        "id": "c7lBozwfqaRK",
        "outputId": "22ebab32-7835-480a-e543-df3f5b57e5b7"
      },
      "outputs": [
        {
          "output_type": "stream",
          "name": "stdout",
          "text": [
            "True True False\n"
          ]
        }
      ],
      "source": [
        "print(WT01, WT02, WT03)"
      ]
    },
    {
      "cell_type": "markdown",
      "metadata": {
        "id": "cfMAQh95X3xd"
      },
      "source": [
        "If we run a line of code that is a statement, it will return a boolean: If it is true or false. This could be mathematical, string based, or many other methods we will see.\n",
        "\n",
        "Note:\n",
        "*   one equals symbol ( ```=``` ) assigns a value\n",
        "*   two equals symbol ( ```==``` ) TESTS if that equation is correct.\n",
        "\n",
        "So this line is TESTING if two plus two equals four:"
      ]
    },
    {
      "cell_type": "code",
      "execution_count": 11,
      "metadata": {
        "colab": {
          "base_uri": "https://localhost:8080/"
        },
        "id": "BkYfZICTOQd3",
        "outputId": "910b3eb2-b9bb-4292-e82e-f3bcc0147f1b"
      },
      "outputs": [
        {
          "output_type": "execute_result",
          "data": {
            "text/plain": [
              "True"
            ]
          },
          "metadata": {},
          "execution_count": 11
        }
      ],
      "source": [
        "2 + 2 == 4"
      ]
    },
    {
      "cell_type": "code",
      "execution_count": 12,
      "metadata": {
        "colab": {
          "base_uri": "https://localhost:8080/"
        },
        "id": "R4VvhExaNqum",
        "outputId": "2bab3755-4757-4259-8425-537f9754f817"
      },
      "outputs": [
        {
          "output_type": "execute_result",
          "data": {
            "text/plain": [
              "False"
            ]
          },
          "metadata": {},
          "execution_count": 12
        }
      ],
      "source": [
        "my_species = \"Xenopus\"\n",
        "\n",
        "\"Drosophila\" == my_species"
      ]
    },
    {
      "cell_type": "markdown",
      "source": [
        "you can do something like\n",
        "if \"Dros\" == my_species\n",
        "then"
      ],
      "metadata": {
        "id": "tZzvrquYt00-"
      }
    },
    {
      "cell_type": "markdown",
      "metadata": {
        "id": "Oh-2Px0mdXkj"
      },
      "source": [
        "---\n",
        "### Combining variables\n",
        "\n",
        "We can do mathematical operations as you would expect with ```+ - * /``` (more on maths later in the course), but we have to be careful with combing variables!"
      ]
    },
    {
      "cell_type": "code",
      "execution_count": 13,
      "metadata": {
        "colab": {
          "base_uri": "https://localhost:8080/",
          "height": 202
        },
        "id": "_hOccRf_qaRL",
        "outputId": "cc0ac1c6-b30d-4eaa-aabe-be0c791eb8b9"
      },
      "outputs": [
        {
          "output_type": "stream",
          "name": "stdout",
          "text": [
            "20\n"
          ]
        },
        {
          "output_type": "error",
          "ename": "TypeError",
          "evalue": "can only concatenate str (not \"int\") to str",
          "traceback": [
            "\u001b[0;31m---------------------------------------------------------------------------\u001b[0m",
            "\u001b[0;31mTypeError\u001b[0m                                 Traceback (most recent call last)",
            "\u001b[0;32m/tmp/ipython-input-3730269145.py\u001b[0m in \u001b[0;36m<cell line: 0>\u001b[0;34m()\u001b[0m\n\u001b[1;32m      2\u001b[0m \u001b[0msites\u001b[0m \u001b[0;34m=\u001b[0m \u001b[0;34m\"four\"\u001b[0m\u001b[0;34m\u001b[0m\u001b[0;34m\u001b[0m\u001b[0m\n\u001b[1;32m      3\u001b[0m \u001b[0mprint\u001b[0m\u001b[0;34m(\u001b[0m\u001b[0msamples\u001b[0m \u001b[0;34m+\u001b[0m \u001b[0;36m5\u001b[0m\u001b[0;34m)\u001b[0m\u001b[0;34m\u001b[0m\u001b[0;34m\u001b[0m\u001b[0m\n\u001b[0;32m----> 4\u001b[0;31m \u001b[0mprint\u001b[0m\u001b[0;34m(\u001b[0m\u001b[0msites\u001b[0m \u001b[0;34m+\u001b[0m \u001b[0;36m3\u001b[0m\u001b[0;34m)\u001b[0m\u001b[0;34m\u001b[0m\u001b[0;34m\u001b[0m\u001b[0m\n\u001b[0m",
            "\u001b[0;31mTypeError\u001b[0m: can only concatenate str (not \"int\") to str"
          ]
        }
      ],
      "source": [
        "samples = 15\n",
        "sites = \"four\"\n",
        "print(samples + 5)\n",
        "print(sites + 3)"
      ]
    },
    {
      "cell_type": "markdown",
      "metadata": {
        "id": "6CgCRJcHqaRL"
      },
      "source": [
        "Before we go any further lets investigate what that error tells us about the code..."
      ]
    },
    {
      "cell_type": "markdown",
      "metadata": {
        "id": "bplUjktyqaRL"
      },
      "source": [
        "**Exercise:** Here we have three variables. A string, an integer, and a float. Or do we?\n",
        "Before running the code, think about what you would expect the outputs to be. And then run the codeblock and work out what is happening."
      ]
    },
    {
      "cell_type": "code",
      "execution_count": 15,
      "metadata": {
        "colab": {
          "base_uri": "https://localhost:8080/"
        },
        "id": "HCuQZw7TOwBM",
        "outputId": "20d114ff-89d5-4d6b-8116-8771e4838d38"
      },
      "outputs": [
        {
          "output_type": "stream",
          "name": "stdout",
          "text": [
            "TGCATGCATGCTAGCGTACTGCATGCATGCTAGCGTACTGCATGCATGCTAGCGTACTGCATGCATGCTAGCGTAC\n",
            "1602000\n",
            "1.6924\n"
          ]
        }
      ],
      "source": [
        "my_gene = \"TGCATGCATGCTAGCGTAC\"\n",
        "read_count = 400500\n",
        "frequency_observed = 0.4231\n",
        "\n",
        "print(my_gene * 4)\n",
        "print(read_count * 4)\n",
        "print(frequency_observed * 4)"
      ]
    },
    {
      "cell_type": "markdown",
      "metadata": {
        "id": "rt0JI0VnPR1L"
      },
      "source": [
        "Can you see what went wrong there? Putting the float value was inside of \" \" quotes, resulted in it being interpretted as a string, so was repeated multiple times rather than used as a number like the **read_count** variable above it.\n",
        "\n",
        "> In each of these examples we're using the variable format to assign data or values to a label or \"variable name\". It means we can refer back to them later or multiple times through our code. Variables don't automatically get displayed on the screen or saved to a file which is why we use the ```print()``` command whenever we want to see a variable's value. It also means we can reuse variables multiple times in our code.\n",
        "\n",
        "**Exercise:** Lets play with strings and convert an example gene sequence into something a bit more gene-like by adding a start codon, polyA tail, and repeat it 4 times for good luck!\n",
        "\n",
        "Take a few moments to try and interpret what the code is going to do before running it"
      ]
    },
    {
      "cell_type": "code",
      "execution_count": 19,
      "metadata": {
        "colab": {
          "base_uri": "https://localhost:8080/"
        },
        "id": "wtxMCmx1O3Eq",
        "outputId": "959cef4d-e259-4803-d4d2-5356a9379949"
      },
      "outputs": [
        {
          "output_type": "stream",
          "name": "stdout",
          "text": [
            "My new gene is: ATGTGCATGCATGCTAGCGTACTGCATGCATGCTAGCGTACTGCATGCATGCTAGCGTACTGCATGCATGCTAGCGTACGGCAAAAAAAAAA\n"
          ]
        }
      ],
      "source": [
        "# Defining some string variables\n",
        "my_sequence = \"TGCATGCATGCTAGCGTAC\"\n",
        "start_codon = \"ATG\"\n",
        "stop_codon = \"GGC\"\n",
        "polyA = \"AAAAAAAAAA\"\n",
        "\n",
        "# My code\n",
        "newGene = start_codon + my_sequence * 4 + stop_codon + polyA\n",
        "print(\"My new gene is:\", newGene)"
      ]
    },
    {
      "cell_type": "markdown",
      "metadata": {
        "id": "zBWj-oeQTBqe"
      },
      "source": [
        "We introduced a few things there. Firstly you'll see the lines that begin with a # character (called a hash (or hashtag in the twitter era!) or a pound). We use them for putting comments in our code to explain it or to make more sense when returning. Comments are super important!\n",
        "\n",
        "Firstly we define our variables. In this short sequence we could have just typed them straight in, but imagine you had code that was hundreds of lines long and you typed the stop codon every time. Then you realise you used a stop codon for bacteria, not eukaryotes! This way you only need to change one line and it will correct your whole script.\n",
        "\n",
        "The actual code line does what is called string concatenation - basically just joining strings together\n",
        "\n",
        "---\n",
        "Lets make our code a bit more advanced by repeating our sequence 4 times numerically, and also lets change the stop codon like we mentioned. All the other variables stay the same, but we have written over the ```stop_codon``` variable now."
      ]
    },
    {
      "cell_type": "code",
      "execution_count": 20,
      "metadata": {
        "colab": {
          "base_uri": "https://localhost:8080/"
        },
        "id": "_tT18R38FVqi",
        "outputId": "1e119d6e-987c-47ed-dba1-77444eb836e0"
      },
      "outputs": [
        {
          "output_type": "stream",
          "name": "stdout",
          "text": [
            "My newer gene is: ATGTGCATGCATGCTAGCGTACTGCATGCATGCTAGCGTACTGCATGCATGCTAGCGTACTGCATGCATGCTAGCGTACTAGAAAAAAAAAA\n"
          ]
        }
      ],
      "source": [
        "# New variables\n",
        "stop_codon = \"TAG\"\n",
        "\n",
        "# My code\n",
        "newerGene = start_codon + my_sequence * 4 + stop_codon + polyA\n",
        "print(\"My newer gene is:\", newerGene)"
      ]
    },
    {
      "cell_type": "markdown",
      "metadata": {
        "id": "QnF-86rlqaRN"
      },
      "source": [
        " Here we're doing a multiplication of string. This is a very python way to work, because other langugages may require you to define the types but python interprets it for you."
      ]
    },
    {
      "cell_type": "markdown",
      "metadata": {
        "id": "EblBtnogGscL"
      },
      "source": [
        "**Exercise:** In the above code make a variable named \"repeats\" and assign a numerical value, and replace the 4 in the code with the new variable.\n",
        "\n",
        "**Extension Exercise:** There is a function named ```len()``` which calculates the length of a sequence. Try using that to print the length of the \"newerGene\" string. If you get an error be sure to read it as it should help solve the problem!"
      ]
    },
    {
      "cell_type": "markdown",
      "metadata": {
        "id": "E7e8XryfIVKD"
      },
      "source": [
        "## A quick look at print()\n",
        "\n",
        "We have used ```print()``` many times already and will be one of the most used functions. The main rule is put everything within the brackets ```(  )```, and most of the time it is very intuitive how it works and it is very useful that you can call variables without needing extra characters (some languages such as R requires ```$``` to call variables). Python just knows!\n",
        "\n",
        "But there are a few interesting cases to make sure you're aware of, for example using commas (```,```) and plusses (```+```)"
      ]
    },
    {
      "cell_type": "code",
      "execution_count": 22,
      "metadata": {
        "id": "ezTsXTC5I0is"
      },
      "outputs": [],
      "source": [
        "# variables\n",
        "fav_text = \"My favourite animal is\"\n",
        "animal_choice = \"Platypus\"\n",
        "rating = 8"
      ]
    },
    {
      "cell_type": "markdown",
      "metadata": {
        "id": "cVbP8-T9JYad"
      },
      "source": [
        "A simple print command using commas:"
      ]
    },
    {
      "cell_type": "code",
      "execution_count": 23,
      "metadata": {
        "colab": {
          "base_uri": "https://localhost:8080/"
        },
        "id": "mZZntWL5JJKZ",
        "outputId": "585dac0c-d4e6-4b07-836d-7c561ffaae9e"
      },
      "outputs": [
        {
          "output_type": "stream",
          "name": "stdout",
          "text": [
            "My favourite animal is Platypus ! I give it 8 /10\n"
          ]
        }
      ],
      "source": [
        "print(fav_text, animal_choice, \"! I give it\", rating, \"/10\")"
      ]
    },
    {
      "cell_type": "markdown",
      "metadata": {
        "id": "r9NaIBWfJbpa"
      },
      "source": [
        "Hmmmm. That works, but it's a little annoying with the whitespace. Using commas in a print command makes it output sentence structure with spaces between each variable but sometimes that's not what we want.\n",
        "\n",
        "Using plusses we can skip the whitespace where we want to:"
      ]
    },
    {
      "cell_type": "code",
      "execution_count": 25,
      "metadata": {
        "colab": {
          "base_uri": "https://localhost:8080/"
        },
        "id": "OYFRD8IWJ_7I",
        "outputId": "b31d1e29-a4f3-4ce2-ae2d-8c51a2c935d2"
      },
      "outputs": [
        {
          "output_type": "stream",
          "name": "stdout",
          "text": [
            "My favourite animal is Platypus! I give it 8/10\n"
          ]
        }
      ],
      "source": [
        "print(fav_text, animal_choice + \"! I give it\", str(rating) + \"/10\")"
      ]
    },
    {
      "cell_type": "markdown",
      "metadata": {
        "id": "E6K9t3jRKIqS"
      },
      "source": [
        "Oh no! It gave an error! That's because here python thinks you are now trying to do maths on an integer number and a string together. We can fix that by telling it to turn the rating number into a string:"
      ]
    },
    {
      "cell_type": "code",
      "execution_count": 26,
      "metadata": {
        "colab": {
          "base_uri": "https://localhost:8080/"
        },
        "id": "FdSi5lLtKINj",
        "outputId": "a768501e-cd5c-4b27-ac38-1b254b96b638"
      },
      "outputs": [
        {
          "output_type": "stream",
          "name": "stdout",
          "text": [
            "My favourite animal is Platypus! I give it 8/10\n"
          ]
        }
      ],
      "source": [
        "print(fav_text, animal_choice + \"! I give it\", str(rating) + \"/10\")"
      ]
    },
    {
      "cell_type": "markdown",
      "metadata": {
        "id": "hwjPY1_NKqHB"
      },
      "source": [
        "Much better! None of this is essential for science, but when mixing different variable types it can cause errors that break our code. We'll look at some more advanced ways to use print that makes this all a lot easier later in the course (```printf()``` can be really useful) but this should be good for now."
      ]
    },
    {
      "cell_type": "markdown",
      "metadata": {
        "id": "Mboo9z9Jb9qK"
      },
      "source": [
        "---\n",
        "## Errors & Help\n",
        "\n",
        "Coding is always going to go wrong at some point. Python is quite useful in the error messages it gives (usually!). Lets see what happens and how to read the error messages.\n",
        "\n",
        "In this case, where we have a similar program as above, but I've made some mistakes for you to find and fix\n",
        "\n",
        "### Exercise - BugFix\n",
        "\n",
        "Run the next broken code and read the error messages. Try to correct the errors without looking back at the example above."
      ]
    },
    {
      "cell_type": "code",
      "execution_count": 39,
      "metadata": {
        "colab": {
          "base_uri": "https://localhost:8080/"
        },
        "id": "Vq8pzTvcGhwY",
        "outputId": "e1f1dce2-ae54-4ac9-c567-a8571024ce7b"
      },
      "outputs": [
        {
          "output_type": "stream",
          "name": "stdout",
          "text": [
            "My new gene is: TGCATGCATGCTAGCGTAC-CAG-CAG-CAG-CAG-CAG-CAG-CAG-CAG-GGGTCGATAGCGCGTATAATGC\n",
            "It is 74 bases long\n"
          ]
        }
      ],
      "source": [
        "# Defining some variables\n",
        "gene_part1 = \"TGCATGCATGCTAGCGTAC\"\n",
        "gene_part2 = \"GGGTCGATAGCGCGTATAATGC\"\n",
        "repeat_element = \"CAG\"\n",
        "insertion = \"-\"\n",
        "\n",
        "# My code - Join the parts, with an x8 CAG repeat and insertion.\n",
        "newGene = gene_part1 + (insertion + repeat_element) * 8 + (insertion + gene_part2)\n",
        "print(\"My new gene is:\", newGene)\n",
        "print(\"It is\", len(newGene), \"bases long\")"
      ]
    },
    {
      "cell_type": "markdown",
      "metadata": {
        "id": "vq46HHi5dfLy"
      },
      "source": [
        "Sometimes you'll get an error like this, but other times your code will complete, but the output will be incorrect so it's important to check and test your outputs to be certain they are as expected!\n",
        "\n",
        "There are a huge number of complex methods and syntax when writing python code that it's good to consult the manual or find help. Google is always useful, but you can have information from different versions so it can be easiest to open the help within your python environment so it is definitely the version you're working with:"
      ]
    },
    {
      "cell_type": "code",
      "execution_count": 37,
      "metadata": {
        "colab": {
          "base_uri": "https://localhost:8080/"
        },
        "id": "B4zhucTHCDco",
        "outputId": "76588701-6902-44f3-a1e5-69e363b536b4"
      },
      "outputs": [
        {
          "output_type": "stream",
          "name": "stdout",
          "text": [
            "Help on built-in function print in module builtins:\n",
            "\n",
            "print(*args, sep=' ', end='\\n', file=None, flush=False)\n",
            "    Prints the values to a stream, or to sys.stdout by default.\n",
            "\n",
            "    sep\n",
            "      string inserted between values, default a space.\n",
            "    end\n",
            "      string appended after the last value, default a newline.\n",
            "    file\n",
            "      a file-like object (stream); defaults to the current sys.stdout.\n",
            "    flush\n",
            "      whether to forcibly flush the stream.\n",
            "\n"
          ]
        }
      ],
      "source": [
        "help(print)"
      ]
    },
    {
      "cell_type": "markdown",
      "metadata": {
        "id": "Rq4cxTGeb9kY"
      },
      "source": [
        "---\n",
        "\n",
        "## Exercise - Data Types\n",
        "Lets imagine we are running an RNAseq analysis lab and every day generates a file with the numbers below. Rather than copying them out into a report each day, lets write a simple program that outputs the results in an easilty interpratable way. Try to create a useful output in normal text that could be easily understood by a non-coding biologist using as many of the variables as possible.\n",
        "\n",
        "**Exercise:** Use ```print()``` to make a summary that could be the first line of an RNAseq results paper i.e \"In this study we investigated.....\"\n",
        "\n",
        "**Extension Exercise:** Include a calculation of the percentage of Up/Down regulated genes. (Too many decimals? We'll filx that in the next section!)"
      ]
    },
    {
      "cell_type": "code",
      "execution_count": null,
      "metadata": {
        "id": "gGud2EeEcm4T"
      },
      "outputs": [],
      "source": [
        "# Number of upregulated genes\n",
        "up_genes = 8423\n",
        "\n",
        "# Number of upregulated genes\n",
        "down_genes = 7239\n",
        "\n",
        "# Total genes in reference database\n",
        "tot_genes = 23000\n",
        "\n",
        "# Significance value for t.test\n",
        "sig_thresh = 0.05\n",
        "\n",
        "# False Discovery Rate correction was performed?\n",
        "FDR = True\n",
        "\n",
        "# Author of analysis\n",
        "auth = \"\"\n"
      ]
    },
    {
      "cell_type": "code",
      "execution_count": null,
      "metadata": {
        "id": "GdE-xamZdTjR"
      },
      "outputs": [],
      "source": [
        "# Write your output code here\n",
        "print()\n",
        "\n"
      ]
    },
    {
      "cell_type": "markdown",
      "metadata": {
        "id": "k6C7IrQHmGPb"
      },
      "source": [
        "# Methods & Data Manipulation\n",
        "There are many useful functions and methods built in to python that are defined within an object.\n",
        "\n",
        "We've already seen ```len()``` to output the length of an object. Two other useful numerical ones are ```.count``` and ```round()```.\n",
        "\n",
        "```.count``` is a string method and ```round()``` is a function which affects how they are used in code but lets not worry about the background for now. We'll look in more detail at methods later but to quickly demonstrate now how they are used as we will rely on them a lot:"
      ]
    },
    {
      "cell_type": "code",
      "execution_count": null,
      "metadata": {
        "id": "XsO2zuRRMO2I"
      },
      "outputs": [],
      "source": [
        "myAA = \"MVKLRYFMVKLRYFHPCQDEGANISTWHPCQDEGANISTISTW\"\n",
        "print(\"My amino acid sequence is:\", myAA)"
      ]
    },
    {
      "cell_type": "markdown",
      "metadata": {
        "id": "_cfJ5vIuMP0p"
      },
      "source": [
        "The ```.count()``` method will output the number of times a character is in your string. Here it is using the options inside the ```( )``` ON the string that it is a method for."
      ]
    },
    {
      "cell_type": "code",
      "execution_count": null,
      "metadata": {
        "id": "qWjgTpf5nKW9"
      },
      "outputs": [],
      "source": [
        "# Count the number of As in your sequence\n",
        "countK = myAA.count(\"K\")\n",
        "print(\"There are\", countK ,\"Lysine residues in my protein\")"
      ]
    },
    {
      "cell_type": "markdown",
      "metadata": {
        "id": "484UW5aXqaRR"
      },
      "source": [
        "**Exercise:** Calculate the percentage that are Lysine (K) residues using the ```len()``` function."
      ]
    },
    {
      "cell_type": "markdown",
      "metadata": {
        "id": "wGQ2OEO1qaRR"
      },
      "source": [
        "And we can use the round() function to simply modify the number:"
      ]
    },
    {
      "cell_type": "code",
      "execution_count": null,
      "metadata": {
        "id": "vT0HDf6RqaRR"
      },
      "outputs": [],
      "source": [
        "# Rounded\n",
        "K_percent_rounded = round(K_percent, 2)\n",
        "print(\"That is\", K_percent_rounded, \"% of the protein\")"
      ]
    },
    {
      "cell_type": "markdown",
      "metadata": {
        "id": "cjNpl1RrqaRR"
      },
      "source": [
        "Note how in these two processesses the key-word is either before your variables surrounding it in brackets ```( )``` (this is performing a *function* on your variables), or it comes after your variable following a dot/stop/period ``` . ``` (here it is modifying the variable that it is a *method* for).\n",
        "\n",
        "Often they work the same and you just need to remember which way to use it, but we will see what is going on in the background later in the course"
      ]
    },
    {
      "cell_type": "markdown",
      "metadata": {
        "id": "jCrRoRs1kJMc"
      },
      "source": [
        "\n",
        "\n",
        "---\n",
        "\n",
        "\n",
        "# Exercises - Data Manipulation\n",
        "\n",
        "We've seen various ways of changing the raw data, so now you will try to use them. Don't forget to use the ```help()``` function for a quick reminder, or also while in Colab then putting the mouse over a function will show the same help text.\n",
        "\n",
        "**1 - Write some code to caclulate the GC% of the sequence and print the result** (the count method above will help!)\n",
        "\n",
        "**2 - Output your result as a float number. Then to 2 decimal places.**\n",
        "\n",
        "**3 - Include your key information and outputs as a full sentence combining the numbers and text**\n",
        "\n",
        "I have put the first line of reading a block of text in, and removing the newlines. We'll look at better ways of reading data into our scripts in a later session.\n",
        "\n",
        "Extension Exercise: Check for Start (ATG) and Stop codons (TAA, TAG) in the sequence, and report how many exist"
      ]
    },
    {
      "cell_type": "code",
      "execution_count": null,
      "metadata": {
        "id": "NtUMp8qL5sjn"
      },
      "outputs": [],
      "source": [
        "#>U96639.2:5349-6893 Canis familiaris mitochondrion, cytochrome c oxidase subunit I\n",
        "gene_id = \"C. familiaris COI\"\n",
        "input = \"\"\"ATGTTCATTTACCGATGCACTGTTCTCCACTCGATCACAAGTACTTTATACTTACTATTTGGAG\n",
        "CATGCAGCCGGTATACGTACAGGCACTGCTTTGGAGCCTCCTCAACTTGAAGGTCAGCCCGGTACTTTATACAGG\n",
        "ACTATGGTCGACGATCAAATTTATATGGAATACACCGCCCATGCTTCGTCAAGATTGGAGATCTTCTCATACGTC\n",
        "ATGCCCATCATATATTGGGGGCTTTGGAAACTCGACTACGTGCCGTTATTTACATTGGTGCTCCGGACATGGCAT\n",
        "TCCCCCGAATCAGAATATACATGGAGCTTCTGACTCCTTCCTCCATCCCGCCTTCTACTATTCAGCATCTTCTAT\n",
        "GGTCAGAAGCAGGTGCAGGAACGGGATGGAACCGTATACCCCCCACTGGCTGGCAATCTGGCCCATGCAGGAATG\n",
        "GCATCCGTTGCACCTTAGCGCGCGCGCGCCACACTTAGCCGGAGTCTCTTCTATTTTACGCGGGCAATTAATTGA\n",
        "TCATCACTACTATTATCAACATCAAAACCCCCTGCAATATCCCAGTATCAAACTCCCCTGTTTGTATGATCAATA\n",
        "AGTACTACATTACAGCAGTTCTACTCTTACTATCCCTGCCTGTACTGGCTGCTGGAATTACAATACTTTTAAAAA\n",
        "ACAGACCGGAATCTTAATACAACACGCGCGGATCCCGCTGGAGGAGGAGACCCTATCCTATATCAACACCTTAAA\n",
        "TATTCTGGATTCTTCGGACATCCTCGAAGTTTACATTCTTATCCTGCCCGGATTCGGAATAATTTCTCACATCCC\n",
        "CGCGCGCGCGCGCGAGCGAGCGCGCAGCGGGCGCATGCCAACCACGGCATCGCGCGCGACGCGCCCCCCGGCCCA\"\"\"\n",
        "\n",
        "gene_sequence = input.replace(\"\\n\",\"\")"
      ]
    },
    {
      "cell_type": "code",
      "execution_count": null,
      "metadata": {
        "id": "WmlE5QKgIXV5"
      },
      "outputs": [],
      "source": [
        "# Write your code here\n",
        "print(gene_sequence)\n"
      ]
    }
  ],
  "metadata": {
    "colab": {
      "provenance": [],
      "include_colab_link": true
    },
    "kernelspec": {
      "display_name": "Python 3",
      "name": "python3"
    },
    "language_info": {
      "codemirror_mode": {
        "name": "ipython",
        "version": 3
      },
      "file_extension": ".py",
      "mimetype": "text/x-python",
      "name": "python",
      "nbconvert_exporter": "python",
      "pygments_lexer": "ipython3",
      "version": "3.11.9"
    }
  },
  "nbformat": 4,
  "nbformat_minor": 0
}
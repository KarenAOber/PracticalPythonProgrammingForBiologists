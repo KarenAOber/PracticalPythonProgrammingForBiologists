{
  "cells": [
    {
      "cell_type": "markdown",
      "metadata": {
        "id": "view-in-github",
        "colab_type": "text"
      },
      "source": [
        "<a href=\"https://colab.research.google.com/github/KarenAOber/PracticalPythonProgrammingForBiologists/blob/main/Day1/P34B-Day1-project.ipynb\" target=\"_parent\"><img src=\"https://colab.research.google.com/assets/colab-badge.svg\" alt=\"Open In Colab\"/></a>"
      ]
    },
    {
      "cell_type": "markdown",
      "metadata": {
        "id": "ELLkNgCz2-dB"
      },
      "source": [
        "# Practical Python Programming for Biologists\n",
        "Author, Dr. Daniel Pass | www.CompassBioinformatics.com\n",
        "\n",
        "---"
      ]
    },
    {
      "cell_type": "markdown",
      "metadata": {
        "id": "UbYwA7riL9Lr"
      },
      "source": [
        "#  Day 1 Project Challenge\n",
        "\n",
        "We have been investigating the upstream sequence region of P2X1 and have data on Transcription Factor Binding Sites. I want you to write code to analyse the data collected and automatically output some interpretation in easy to read format (ready for a non-computer prof. to understand!).\n",
        "\n",
        "You have been given the following data,\n",
        "- A region of DNA that we're investigating\n",
        "- A list of binding sites with their sequence and position of their first base\n",
        "- A 2D list of binding sequence motifs and their frequency\n",
        "\n",
        "There are infinite different ways to answer these questions and no true correct answer. Think about the approaches you might try first in normal languange, and then think how you would achive it with python. Take your time, this is a big collection of chalenges that should take 30+ minutes!\n",
        "\n",
        "#### Objectives\n",
        "1. Calculate the length of the region being studied and total AT% (AT regions are often associated with binding sites)\n",
        "2. Divide the region into three equal sections and report if AT% is different between them\n",
        "3. Print the DNA sequence of the given experimental binding motifs above the actual binding section from the long sequence region so that it looks like i.e.:\n",
        "\n",
        "    ```\n",
        "    TFBS1\n",
        "    ACTGA\n",
        "    ACAGA\n",
        "    ```\n",
        "\n",
        "    - Note: Use the position number to output the sequence of the region +/- 5bp: If the position is 100 and the motif is 5 bases long output bases: 95-[motif length=5]-110\n",
        "    - Extension: Include the surrounding section too, aiming for a format like this:\n",
        "    \n",
        "          TFBS1\n",
        "          -----XXXXX-----\n",
        "          ACTGAXXXXXATCGA\n",
        "\n",
        "Extensions:\n",
        "- Make a bar chart showing frequency of in silico predictions - You can copy the barchart code from the introduction session to start\n",
        "  - Should all in the list be represented? Maybe remove one?\n",
        "\n",
        "---\n",
        "\n",
        "Tips,\n",
        "- Work on getting the outputs first. Make it look attractive second!\n",
        "- Using regular `print()` statements can help understand what's happening\n",
        "- Don't forget about the zip and unzip functions\n",
        "- This may be a useful graph parameter, ```plt.xticks(rotation=90)```!\n",
        "- Some commands are repeatative. We will solve this with loops in the next sessions but for now it is good to practice!\n"
      ]
    },
    {
      "cell_type": "markdown",
      "metadata": {
        "id": "cwMhl6maOQoz"
      },
      "source": [
        "### Example of an upstream promotor region, with highlighted motifs (not your gene!)"
      ]
    },
    {
      "cell_type": "markdown",
      "metadata": {
        "id": "rBvT9TkXb1qb"
      },
      "source": [
        "![promotor.png](attachment:promotor.png)"
      ]
    },
    {
      "cell_type": "markdown",
      "metadata": {
        "id": "lp1qxWYfXoF0"
      },
      "source": [
        "Upstream DNA region of interest"
      ]
    },
    {
      "cell_type": "code",
      "execution_count": null,
      "metadata": {
        "id": "qGc5pWZFL50i"
      },
      "outputs": [],
      "source": [
        ">ref|NC_000008.11|,11670718-11670917 Homo sapiens chromosome 8, GRCh38.p14 Primary Assembly\n",
        "AATTATTTACTTAGCTAGGAGTGTGAGCTTGAGGGCGGGTCTAATGAGTAGGTCAGAGTCAG\n",
        "CCTGGCACAGCAAGAATGAAATAATTTTTTTTTTGAGATAAGGTCTTGCTCTGCCACCCAGG\n",
        "CAATGGTGTGATCATAGGTCACTGTAACCTCAAACTCTTGGGCTCAAGTGATCCTCCTGCAT\n",
        "AGTTGGTATTACTTAGCTAGGAGTGTGAGCTTGAGGGCGGGTCTAATGAGTAGGTCAGAGTC\n",
        "CCTGGCACAGCAAGAATGAAATAATTTTTTTTGAGATAAGGTCTTGCTCTGCCACCCAGGAT\n",
        "GGAGTGCAATGGTGTGATCATAGGTCACTGTAACCTCAAACTCTTGGGCTCAAGTGATCCTC\n",
        "CTGCGTTGGTATTACTTAGCTAGGAGTGTGAGCTTGAGGGCGGGTTTTTTTTGAGATAAGGT\n",
        "CTTGCTCTGCCACCCAGGATGGAGTGCAATGGTGTGATCATAGGTCACTGTAACCTCAAACT\n",
        "CTTGGGCTCAAGTGATCCTCCTGC\n"
      ]
    },
    {
      "cell_type": "markdown",
      "metadata": {
        "id": "WfxxwxAhXrnS"
      },
      "source": [
        "## Input Data"
      ]
    },
    {
      "cell_type": "code",
      "execution_count": 27,
      "metadata": {
        "id": "MtKehWIXQpzL",
        "outputId": "1a4e227d-14a6-4941-d62e-a4e9e4739463",
        "colab": {
          "base_uri": "https://localhost:8080/"
        }
      },
      "outputs": [
        {
          "output_type": "stream",
          "name": "stdout",
          "text": [
            "The region of interest is 520 bases\n",
            "The % AT in the sequence is 51.15 %\n",
            "part 1: AATTATTTACTTAGCTAGGAGTGTGAGCTTGAGGGCGGGTCTAATGAGTAGGTCAGAGTCAGCCTGGCACAGCAAGAATGAAATAATTTTTTTTTTGAGATAAGGTCTTGCTCTGCCACCCAGGCAATGGTGTGATCATAGGTCACTGTAACCTCAAACTCTTGGGCTCAAGTG\n",
            "part 2: ATCCTCCTGCATAGTTGGTATTACTTAGCTAGGAGTGTGAGCTTGAGGGCGGGTCTAATGAGTAGGTCAGAGTCCCTGGCACAGCAAGAATGAAATAATTTTTTTTGAGATAAGGTCTTGCTCTGCCACCCAGGATGGAGTGCAATGGTGTGATCATAGGTCACTGTAACCTC\n",
            "part 3: AAACTCTTGGGCTCAAGTGATCCTCCTGCGTTGGTATTACTTAGCTAGGAGTGTGAGCCGGAGGGCGGGTTTTTTTTGAGACAAGGTCTTGCCCCGCCACCCAGGAGGGAGTGCGCTGGTGTGATCATAGGTCACTGTAACCTCAAACTCTTGGGCTCGCGTGATCCCCCGGC\n",
            "The % AT in the part 1 is 55.75 %\n",
            "The % AT in the part 2 is 53.76 %\n",
            "The % AT in the part 3 is 43.93 %\n"
          ]
        }
      ],
      "source": [
        "# Upstrem region of interest (as a string)\n",
        "region = \"AATTATTTACTTAGCTAGGAGTGTGAGCTTGAGGGCGGGTCTAATGAGTAGGTCAGAGTCAGCCTGGCACAGCAAGAATGAAATAATTTTTTTTTTGAGATAAGGTCTTGCTCTGCCACCCAGGCAATGGTGTGATCATAGGTCACTGTAACCTCAAACTCTTGGGCTCAAGTGATCCTCCTGCATAGTTGGTATTACTTAGCTAGGAGTGTGAGCTTGAGGGCGGGTCTAATGAGTAGGTCAGAGTCCCTGGCACAGCAAGAATGAAATAATTTTTTTTGAGATAAGGTCTTGCTCTGCCACCCAGGATGGAGTGCAATGGTGTGATCATAGGTCACTGTAACCTCAAACTCTTGGGCTCAAGTGATCCTCCTGCGTTGGTATTACTTAGCTAGGAGTGTGAGCCGGAGGGCGGGTTTTTTTTGAGACAAGGTCTTGCCCCGCCACCCAGGAGGGAGTGCGCTGGTGTGATCATAGGTCACTGTAACCTCAAACTCTTGGGCTCGCGTGATCCCCCGGC\"\n",
        "# figure out length of this region\n",
        "region_length = len(region)\n",
        "print(\"The region of interest is\", region_length, \"bases\")\n",
        "\n",
        "# calculate %AT\n",
        "countAs = region.count(\"A\")\n",
        "countTs = region.count(\"T\")\n",
        "totalAT = countAs + countTs\n",
        "\n",
        "# print(totalAT)\n",
        "ATpercent = totalAT/region_length * 100\n",
        "ATpercentrouned = round(ATpercent, 2)\n",
        "print(\"The % AT in the sequence is\", ATpercentrouned, \"%\")\n",
        "\n",
        "# Divide the region into three equal sections and report if AT% is different between them\n",
        "partlengths = region_length / 3\n",
        "list(region)\n",
        "#print(partlengths)\n",
        "region_part1 = region[:174]\n",
        "region_part2 = region[174:347]\n",
        "region_part3 = region[347:]\n",
        "\n",
        "print(\"part 1:\", region_part1)\n",
        "print(\"part 2:\", region_part2)\n",
        "print(\"part 3:\", region_part3)\n",
        "\n",
        "# calculate %AT part1\n",
        "part1_length = len(region_part1)\n",
        "#print(part1_length)\n",
        "\n",
        "Part1_countAs = region_part1.count(\"A\")\n",
        "Part1_countTs = region_part1.count(\"T\")\n",
        "totalATPart1 = Part1_countAs + Part1_countTs\n",
        "\n",
        "#print(totalATPart1)\n",
        "Part1_ATpercent = totalATPart1/part1_length * 100\n",
        "Part1_ATpercentrouned = round(Part1_ATpercent, 2)\n",
        "\n",
        "print(\"The % AT in the part 1 is\", Part1_ATpercentrouned, \"%\")\n",
        "\n",
        "\n",
        "# calculate %AT part2\n",
        "part2_length = len(region_part2)\n",
        "# print(part2_length)\n",
        "\n",
        "Part2_countAs = region_part2.count(\"A\")\n",
        "Part2_countTs = region_part2.count(\"T\")\n",
        "totalATPart2 = Part2_countAs + Part2_countTs\n",
        "\n",
        "# print(totalATPart2)\n",
        "Part2_ATpercent = totalATPart2/part2_length * 100\n",
        "Part2_ATpercentrouned = round(Part2_ATpercent, 2)\n",
        "\n",
        "print(\"The % AT in the part 2 is\", Part2_ATpercentrouned, \"%\")\n",
        "\n",
        "# calculate %AT part3\n",
        "part3_length = len(region_part3)\n",
        "# print(part3_length)\n",
        "\n",
        "Part3_countAs = region_part3.count(\"A\")\n",
        "Part3_countTs = region_part3.count(\"T\")\n",
        "totalATPart3 = Part3_countAs + Part3_countTs\n",
        "\n",
        "#print(totalATPart3)\n",
        "Part3_ATpercent = totalATPart3/part3_length * 100\n",
        "Part3_ATpercentrouned = round(Part3_ATpercent, 2)\n",
        "\n",
        "print(\"The % AT in the part 3 is\", Part3_ATpercentrouned, \"%\")\n",
        "\n",
        "\n",
        "# The list of binding motifs confirmed by your CHIPSeq experiment and first base binding in region\n",
        "TFBS_experimental = [\"AGGTC\", \"TGATT\", \"GGTCT\"]\n",
        "confirmed_binding_sites = [139, 468, 225]\n",
        "\n",
        "# Sequence motifs found in the region, and frequency\n",
        "in_silico_sites = [('AATGA', 4), ('CATAG', 4), ('GGAGT', 5), ('GAGTG', 5), ('GGTCT', 5), ('TAGGT', 5), ('GGTCA', 5), ('GTGTG', 6), ('TGTGA', 6), ('TTGAG', 6), ('TCTTG', 6), ('GTGAT', 6), ('TGATC', 6), ('CTCAA', 6), ('AGGTC', 8), ('TTTTT', 14)]\n"
      ]
    },
    {
      "cell_type": "code",
      "execution_count": null,
      "metadata": {
        "id": "Z9w33vx7Ptk7"
      },
      "outputs": [],
      "source": [
        "# Your code"
      ]
    }
  ],
  "metadata": {
    "colab": {
      "provenance": [],
      "include_colab_link": true
    },
    "kernelspec": {
      "display_name": "Python 3",
      "name": "python3"
    },
    "language_info": {
      "codemirror_mode": {
        "name": "ipython",
        "version": 3
      },
      "file_extension": ".py",
      "mimetype": "text/x-python",
      "name": "python",
      "nbconvert_exporter": "python",
      "pygments_lexer": "ipython3",
      "version": "3.11.5"
    }
  },
  "nbformat": 4,
  "nbformat_minor": 0
}